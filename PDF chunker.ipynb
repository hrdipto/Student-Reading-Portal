{
 "cells": [
  {
   "cell_type": "code",
   "execution_count": 29,
   "metadata": {},
   "outputs": [],
   "source": [
    "from PyPDF3 import PdfFileWriter, PdfFileReader\n",
    "from copy import copy"
   ]
  },
  {
   "cell_type": "code",
   "execution_count": 80,
   "metadata": {},
   "outputs": [],
   "source": [
    "def PDF_Multipage_Splitter(course_name):\n",
    "    pdf_in_file = open(\"output.pdf\",'rb')\n",
    "\n",
    "    inputpdf = PdfFileReader(pdf_in_file)\n",
    "    pages_no = inputpdf.numPages\n",
    "\n",
    "    for i in range(pages_no):\n",
    "        inputpdf = PdfFileReader(pdf_in_file)\n",
    "        output = PdfFileWriter()\n",
    "        output.addPage(inputpdf.getPage(i))\n",
    "        file_name = course_name + \"_\" + str(i) + \".pdf\"\n",
    "        with open(file_name, \"wb\") as outputStream:\n",
    "            output.write(outputStream)\n",
    "\n",
    "    pdf_in_file.close()\n",
    "    \n",
    "def PDF_Chunker(input_pdf, course_name):\n",
    "    page_counter = 0\n",
    "    output = PdfFileWriter()\n",
    "    input1 = PdfFileReader(open(input_pdf, \"rb\"))\n",
    "    outputStream = open(\"output.pdf\", \"wb\")\n",
    "    for i in range(numPages):\n",
    "        page = input1.getPage(i)\n",
    "#         print(page.cropBox.getUpperLeft())\n",
    "#         print(page.cropBox.getLowerRight())\n",
    "        x = copy(page)\n",
    "        y = copy(page)\n",
    "        z = copy(page)\n",
    "        right = page.mediaBox[2]\n",
    "        top = page.mediaBox[3]\n",
    "        cropped_size_x = right / 3\n",
    "        cropped_size_y = top / 3\n",
    "        bottom = top - cropped_size_y\n",
    "#         print(top, bottom)\n",
    "        x.mediaBox.lowerRight = (612, bottom)\n",
    "        x.mediaBox.upperLeft = (0, top)\n",
    "        output.addPage(x)\n",
    "\n",
    "        top -= cropped_size_y\n",
    "        bottom = top - cropped_size_y\n",
    "#         print(top, bottom)\n",
    "        y.mediaBox.lowerRight = (612, bottom)\n",
    "        y.mediaBox.upperLeft = (0, top)\n",
    "        output.addPage(y)\n",
    "\n",
    "        top -= cropped_size_y\n",
    "        bottom = top - cropped_size_y\n",
    "#         print(top, bottom)\n",
    "        z.mediaBox.lowerRight = (612, bottom)\n",
    "        z.mediaBox.upperLeft = (0, top)\n",
    "        output.addPage(z)\n",
    "\n",
    "\n",
    "        output.write(outputStream)\n",
    "        outputStream.close()\n",
    "\n",
    "        PDF_Multipage_Splitter(\"CSE327\")"
   ]
  },
  {
   "cell_type": "code",
   "execution_count": 81,
   "metadata": {},
   "outputs": [],
   "source": [
    "PDF_Chunker(\"in.pdf\", \"CSE327\")"
   ]
  },
  {
   "cell_type": "code",
   "execution_count": 76,
   "metadata": {},
   "outputs": [],
   "source": []
  },
  {
   "cell_type": "code",
   "execution_count": null,
   "metadata": {},
   "outputs": [],
   "source": []
  }
 ],
 "metadata": {
  "kernelspec": {
   "display_name": "Python 3",
   "language": "python",
   "name": "python3"
  },
  "language_info": {
   "codemirror_mode": {
    "name": "ipython",
    "version": 3
   },
   "file_extension": ".py",
   "mimetype": "text/x-python",
   "name": "python",
   "nbconvert_exporter": "python",
   "pygments_lexer": "ipython3",
   "version": "3.7.3"
  }
 },
 "nbformat": 4,
 "nbformat_minor": 2
}
